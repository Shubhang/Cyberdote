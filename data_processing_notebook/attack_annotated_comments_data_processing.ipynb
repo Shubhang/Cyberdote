{
 "cells": [
  {
   "cell_type": "code",
   "execution_count": 1,
   "metadata": {},
   "outputs": [],
   "source": [
    "import pandas as pd\n",
    "df = pd.read_csv('attack_annotated_comments.tsv', sep='\\t')"
   ]
  },
  {
   "cell_type": "code",
   "execution_count": 2,
   "metadata": {},
   "outputs": [],
   "source": [
    "df_new = df.copy()"
   ]
  },
  {
   "cell_type": "code",
   "execution_count": 3,
   "metadata": {},
   "outputs": [
    {
     "data": {
      "text/html": [
       "<div>\n",
       "<style scoped>\n",
       "    .dataframe tbody tr th:only-of-type {\n",
       "        vertical-align: middle;\n",
       "    }\n",
       "\n",
       "    .dataframe tbody tr th {\n",
       "        vertical-align: top;\n",
       "    }\n",
       "\n",
       "    .dataframe thead th {\n",
       "        text-align: right;\n",
       "    }\n",
       "</style>\n",
       "<table border=\"1\" class=\"dataframe\">\n",
       "  <thead>\n",
       "    <tr style=\"text-align: right;\">\n",
       "      <th></th>\n",
       "      <th>rev_id</th>\n",
       "      <th>comment</th>\n",
       "      <th>year</th>\n",
       "      <th>logged_in</th>\n",
       "      <th>ns</th>\n",
       "      <th>sample</th>\n",
       "      <th>split</th>\n",
       "    </tr>\n",
       "  </thead>\n",
       "  <tbody>\n",
       "    <tr>\n",
       "      <th>0</th>\n",
       "      <td>37675</td>\n",
       "      <td>`-NEWLINE_TOKENThis is not ``creative``.  Thos...</td>\n",
       "      <td>2002</td>\n",
       "      <td>False</td>\n",
       "      <td>article</td>\n",
       "      <td>random</td>\n",
       "      <td>train</td>\n",
       "    </tr>\n",
       "    <tr>\n",
       "      <th>1</th>\n",
       "      <td>44816</td>\n",
       "      <td>`NEWLINE_TOKENNEWLINE_TOKEN:: the term ``stand...</td>\n",
       "      <td>2002</td>\n",
       "      <td>False</td>\n",
       "      <td>article</td>\n",
       "      <td>random</td>\n",
       "      <td>train</td>\n",
       "    </tr>\n",
       "    <tr>\n",
       "      <th>2</th>\n",
       "      <td>49851</td>\n",
       "      <td>NEWLINE_TOKENNEWLINE_TOKENTrue or false, the s...</td>\n",
       "      <td>2002</td>\n",
       "      <td>False</td>\n",
       "      <td>article</td>\n",
       "      <td>random</td>\n",
       "      <td>train</td>\n",
       "    </tr>\n",
       "    <tr>\n",
       "      <th>3</th>\n",
       "      <td>89320</td>\n",
       "      <td>Next, maybe you could work on being less cond...</td>\n",
       "      <td>2002</td>\n",
       "      <td>True</td>\n",
       "      <td>article</td>\n",
       "      <td>random</td>\n",
       "      <td>dev</td>\n",
       "    </tr>\n",
       "    <tr>\n",
       "      <th>4</th>\n",
       "      <td>93890</td>\n",
       "      <td>This page will need disambiguation.</td>\n",
       "      <td>2002</td>\n",
       "      <td>True</td>\n",
       "      <td>article</td>\n",
       "      <td>random</td>\n",
       "      <td>train</td>\n",
       "    </tr>\n",
       "    <tr>\n",
       "      <th>...</th>\n",
       "      <td>...</td>\n",
       "      <td>...</td>\n",
       "      <td>...</td>\n",
       "      <td>...</td>\n",
       "      <td>...</td>\n",
       "      <td>...</td>\n",
       "      <td>...</td>\n",
       "    </tr>\n",
       "    <tr>\n",
       "      <th>115859</th>\n",
       "      <td>699848324</td>\n",
       "      <td>`NEWLINE_TOKENNEWLINE_TOKENNEWLINE_TOKENThese ...</td>\n",
       "      <td>2016</td>\n",
       "      <td>True</td>\n",
       "      <td>article</td>\n",
       "      <td>blocked</td>\n",
       "      <td>train</td>\n",
       "    </tr>\n",
       "    <tr>\n",
       "      <th>115860</th>\n",
       "      <td>699851288</td>\n",
       "      <td>NEWLINE_TOKENNEWLINE_TOKENThe Institute for Hi...</td>\n",
       "      <td>2016</td>\n",
       "      <td>True</td>\n",
       "      <td>article</td>\n",
       "      <td>blocked</td>\n",
       "      <td>test</td>\n",
       "    </tr>\n",
       "    <tr>\n",
       "      <th>115861</th>\n",
       "      <td>699857133</td>\n",
       "      <td>NEWLINE_TOKEN:The way you're trying to describ...</td>\n",
       "      <td>2016</td>\n",
       "      <td>True</td>\n",
       "      <td>article</td>\n",
       "      <td>blocked</td>\n",
       "      <td>train</td>\n",
       "    </tr>\n",
       "    <tr>\n",
       "      <th>115862</th>\n",
       "      <td>699891012</td>\n",
       "      <td>NEWLINE_TOKENNEWLINE_TOKEN== Warning ==NEWLINE...</td>\n",
       "      <td>2016</td>\n",
       "      <td>True</td>\n",
       "      <td>user</td>\n",
       "      <td>blocked</td>\n",
       "      <td>dev</td>\n",
       "    </tr>\n",
       "    <tr>\n",
       "      <th>115863</th>\n",
       "      <td>699897151</td>\n",
       "      <td>Alternate option===NEWLINE_TOKENIs there perha...</td>\n",
       "      <td>2016</td>\n",
       "      <td>True</td>\n",
       "      <td>article</td>\n",
       "      <td>blocked</td>\n",
       "      <td>train</td>\n",
       "    </tr>\n",
       "  </tbody>\n",
       "</table>\n",
       "<p>115864 rows × 7 columns</p>\n",
       "</div>"
      ],
      "text/plain": [
       "           rev_id                                            comment  year  \\\n",
       "0           37675  `-NEWLINE_TOKENThis is not ``creative``.  Thos...  2002   \n",
       "1           44816  `NEWLINE_TOKENNEWLINE_TOKEN:: the term ``stand...  2002   \n",
       "2           49851  NEWLINE_TOKENNEWLINE_TOKENTrue or false, the s...  2002   \n",
       "3           89320   Next, maybe you could work on being less cond...  2002   \n",
       "4           93890               This page will need disambiguation.   2002   \n",
       "...           ...                                                ...   ...   \n",
       "115859  699848324  `NEWLINE_TOKENNEWLINE_TOKENNEWLINE_TOKENThese ...  2016   \n",
       "115860  699851288  NEWLINE_TOKENNEWLINE_TOKENThe Institute for Hi...  2016   \n",
       "115861  699857133  NEWLINE_TOKEN:The way you're trying to describ...  2016   \n",
       "115862  699891012  NEWLINE_TOKENNEWLINE_TOKEN== Warning ==NEWLINE...  2016   \n",
       "115863  699897151  Alternate option===NEWLINE_TOKENIs there perha...  2016   \n",
       "\n",
       "        logged_in       ns   sample  split  \n",
       "0           False  article   random  train  \n",
       "1           False  article   random  train  \n",
       "2           False  article   random  train  \n",
       "3            True  article   random    dev  \n",
       "4            True  article   random  train  \n",
       "...           ...      ...      ...    ...  \n",
       "115859       True  article  blocked  train  \n",
       "115860       True  article  blocked   test  \n",
       "115861       True  article  blocked  train  \n",
       "115862       True     user  blocked    dev  \n",
       "115863       True  article  blocked  train  \n",
       "\n",
       "[115864 rows x 7 columns]"
      ]
     },
     "execution_count": 3,
     "metadata": {},
     "output_type": "execute_result"
    }
   ],
   "source": [
    "df_new"
   ]
  },
  {
   "cell_type": "code",
   "execution_count": 5,
   "metadata": {},
   "outputs": [],
   "source": [
    "df_new.drop('year', axis=1, inplace=True)\n",
    "df_new.drop('logged_in', axis=1, inplace=True)\n",
    "df_new.drop('ns', axis=1, inplace=True)\n"
   ]
  },
  {
   "cell_type": "code",
   "execution_count": 4,
   "metadata": {},
   "outputs": [],
   "source": [
    "df_new['sample_label'] = df_new['sample']\n",
    "df_new.drop('sample', axis=1, inplace=True)"
   ]
  },
  {
   "cell_type": "code",
   "execution_count": 7,
   "metadata": {},
   "outputs": [
    {
     "name": "stderr",
     "output_type": "stream",
     "text": [
      "/var/folders/vt/xdf3hhd173j1dg60krg_hkm80000gn/T/ipykernel_18779/2282327574.py:1: FutureWarning: Passing a negative integer is deprecated in version 1.0 and will not be supported in future version. Instead, use None to not limit the column width.\n",
      "  pd.set_option('display.max_colwidth', -1)\n"
     ]
    },
    {
     "data": {
      "text/plain": [
       "30        NEWLINE_TOKENNEWLINE_TOKEN::I disagree. I would leave it out of the introductory part, since its population (which changes every census) is not nearly as fundamental as the fact that it is in a particular state, its county seat is whatever it is, andstuff like that. Also, if Wikipedia survives till 2010, someone will have to be careful to change it in both places!  BRGNEWLINE_TOKENNEWLINE_TOKEN                                                                                                                                                                                                                                                                                                                                                                                     \n",
       "33        NEWLINE_TOKENNEWLINE_TOKEN:::I don't know where you got the idea that Mt. Airy's in 4 counties. It's only in two. Were you the one, Tokerboy, who added two counties to the two I'd listed when I put it into the Frederick County article?  BRG 10/22                                                                                                                                                                                                                                                                                                                                                                                                                                                                                                                                            \n",
       "50        MarcusAurelius]]NEWLINE_TOKENNEWLINE_TOKENNEWLINE_TOKENWhy exactly was this user banned?                                                                                                                                                                                                                                                                                                                                                                                                                                                                                                                                                                                                                                                                                                          \n",
       "54        The link to SGC Belfry Ted Nude-Gent is dead. Could someone update it to something relevant, perhaps an article on the subject?NEWLINE_TOKEN                                                                                                                                                                                                                                                                                                                                                                                                                                                                                                                                                                                                                                                      \n",
       "56        `Where's the 24 defendants figure coming from? ``Nuremberg and Vietnam: An American Tragedy`` by Telford Taylor (U.S. Chief Counsel at Nuremberg) mentions 200.NEWLINE_TOKENNEWLINE_TOKEN`                                                                                                                                                                                                                                                                                                                                                                                                                                                                                                                                                                                                        \n",
       "                                                                                                     ...                                                                                                                                                                                                                                                                                                                                                                                                                                                                                                                                                                                                                                                                                                    \n",
       "115859    `NEWLINE_TOKENNEWLINE_TOKENNEWLINE_TOKENThese sources don't exactly exude a sense of impartiality. Newsweek is a *better* start, but it still is an article written by someone with an ax to grind (Would an article from Breitbart be as easily accepted? I hope not) but that page from that Massanari woman seems a bit lacking, especially considering it uses such an inflammatory, biased word as ``toxic`` in its own abstract.NEWLINE_TOKENNEWLINE_TOKENI doubt my words will have much effect since the consensus by wiki admins (the only ones who really matter around here) seems to be stuck-in-place, but for anyone else reading this, consider the damn sources. Single studies, politicos writting polemics, etc. etc.   `                                                       \n",
       "115860    NEWLINE_TOKENNEWLINE_TOKENThe Institute for Historical Review is a peer-reviewed journal as well, and that doesn't stop it from attracting massive criticism for Holocaust Revisionism. Just because its peer-reviewed, doesn't mean it is infallible. That is an argument that appeals to authority.NEWLINE_TOKENNEWLINE_TOKENIs there any organisation that takes an impartial view in things, that did a mass study on gamergate and come to any solid conclusions about the nature of GamerGate? I'd love to see it.                                                                                                                                                                                                                                                                          \n",
       "115861    NEWLINE_TOKEN:The way you're trying to describe it in this article is as if it was some serious step whereas most sources see it as EU Commission backing down from brinkmanship (no sanctions etc).                                                                                                                                                                                                                                                                                                                                                                                                                                                                                                                                                                                              \n",
       "115862    NEWLINE_TOKENNEWLINE_TOKEN== Warning ==NEWLINE_TOKENNEWLINE_TOKENThere is clearly a protectionist regime going on here and a witch hunt to boot. The duck rule has been abused to effect this. The article Jonathan Mitchell isn't promotional as that IP that is NOT me claims. It's not notable. As I have been blocked for false reasons, I give notice that I am consulting my lawyers for slander by the blocking admin and reviewing admins. Delete the Jonathan Mitchell article. He's not notable. I maintain that I have not socked but you lot refuse to believe the truth. Well it will likely be sorted out in a court room now. You can re-block this account for legal threats if you want. I will not be slandered and if making the warning is blockable conduct then so be it.   \n",
       "115863    Alternate option===NEWLINE_TOKENIs there perhaps enough newsworthy information to make an article about the Bundy family as a whole, that the various family members can be redirected to? Or does that violate a guideline I'm not aware of?   NEWLINE_TOKENNEWLINE_TOKEN=                                                                                                                                                                                                                                                                                                                                                                                                                                                                                                                       \n",
       "Name: comment, Length: 78372, dtype: object"
      ]
     },
     "execution_count": 7,
     "metadata": {},
     "output_type": "execute_result"
    }
   ],
   "source": [
    "pd.set_option('display.max_colwidth', -1)\n",
    "\n",
    "df_new[df_new.sample_label == 'blocked']['comment']"
   ]
  },
  {
   "cell_type": "code",
   "execution_count": 6,
   "metadata": {},
   "outputs": [
    {
     "data": {
      "text/plain": [
       "'NEWLINE_TOKENNEWLINE_TOKEN::I disagree. I would leave it out of the introductory part, since its population (which changes every census) is not nearly as fundamental as the fact that it is in a particular state, its county seat is whatever it is, andstuff like that. Also, if Wikipedia survives till 2010, someone will have to be careful to change it in both places!  BRGNEWLINE_TOKENNEWLINE_TOKEN'"
      ]
     },
     "execution_count": 6,
     "metadata": {},
     "output_type": "execute_result"
    }
   ],
   "source": [
    "df_new.iloc[30]['comment']"
   ]
  }
 ],
 "metadata": {
  "interpreter": {
   "hash": "949777d72b0d2535278d3dc13498b2535136f6dfe0678499012e853ee9abcab1"
  },
  "kernelspec": {
   "display_name": "Python 3.8.8 64-bit",
   "language": "python",
   "name": "python3"
  },
  "language_info": {
   "codemirror_mode": {
    "name": "ipython",
    "version": 3
   },
   "file_extension": ".py",
   "mimetype": "text/x-python",
   "name": "python",
   "nbconvert_exporter": "python",
   "pygments_lexer": "ipython3",
   "version": "3.8.8"
  },
  "orig_nbformat": 4
 },
 "nbformat": 4,
 "nbformat_minor": 2
}
